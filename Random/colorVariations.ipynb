{
 "cells": [
  {
   "cell_type": "code",
   "execution_count": 6,
   "metadata": {},
   "outputs": [],
   "source": [
    "from PIL import Image \n",
    "import os\n",
    "# Open an image file\n",
    "current_dir = os.path.dirname(os.getcwd())\n",
    "# Convert the image to RGB mode (if it's not already in RGB mode"
   ]
  },
  {
   "cell_type": "code",
   "execution_count": 34,
   "metadata": {},
   "outputs": [],
   "source": [
    "red = ((240, 160, 182), \"red\")\n",
    "green = ((126, 216, 177), \"green\")\n",
    "blue = ((120, 150, 255), \"blue\")\n",
    "yellow = ((231, 249, 142), \"yellow\")\n",
    "\n",
    "block_color_variations = os.path.join(\n",
    "    current_dir, \"frontend\", \"assets\", \"block_color_variations\"\n",
    ")\n",
    "\n",
    "\n",
    "for b in [\"r1\", \"r2\", \"r3\", \"r4\", \"g1\", \"g2\", \"g3\", \"g4\", \"y1\", \"y2\", \"y3\", \"y4\", \"b1\", \"b2\", \"b3\", \"b4\"]:\n",
    "  dir_path = os.path.join(block_color_variations, b)\n",
    "  \n",
    "  image_path = os.path.join(current_dir, \"frontend\", \"assets\", \"block_images\", f'{b}.png')\n",
    "\n",
    "  os.makedirs(dir_path, exist_ok=True)\n",
    "  image = Image.open(image_path)\n",
    "\n",
    "  r, g, b, a = image.split()\n",
    "\n",
    "  for (c, color) in [red, green, blue, yellow]:\n",
    "\n",
    "    r = r.point(lambda i: c[0])\n",
    "    g = g.point(lambda i: c[1])\n",
    "    b = b.point(lambda i: c[2])\n",
    "\n",
    "    # Merge the channels back together\n",
    "    edited_image = Image.merge(\"RGBA\", (r, g, b, a))\n",
    "\n",
    "    # Save the edited image\n",
    "    edited_image.save(os.path.join(dir_path, f'{color}.png'))"
   ]
  }
 ],
 "metadata": {
  "kernelspec": {
   "display_name": "base",
   "language": "python",
   "name": "python3"
  },
  "language_info": {
   "codemirror_mode": {
    "name": "ipython",
    "version": 3
   },
   "file_extension": ".py",
   "mimetype": "text/x-python",
   "name": "python",
   "nbconvert_exporter": "python",
   "pygments_lexer": "ipython3",
   "version": "3.9.12"
  }
 },
 "nbformat": 4,
 "nbformat_minor": 2
}
